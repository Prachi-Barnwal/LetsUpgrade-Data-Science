{
  "nbformat": 4,
  "nbformat_minor": 0,
  "metadata": {
    "colab": {
      "name": "Day 3.ipynb",
      "provenance": []
    },
    "kernelspec": {
      "name": "python3",
      "display_name": "Python 3"
    }
  },
  "cells": [
    {
      "cell_type": "markdown",
      "metadata": {
        "id": "nhMRTCcCb1S8"
      },
      "source": [
        "# Question 1:"
      ]
    },
    {
      "cell_type": "code",
      "metadata": {
        "id": "FqYw2aXfb2NU",
        "outputId": "12d185d3-5e28-4945-ec87-7bd3c539713d",
        "colab": {
          "base_uri": "https://localhost:8080/"
        }
      },
      "source": [
        "import numpy as np\n",
        "\n",
        "arr= np.arange( start=2, stop=50, step=3 )\n",
        "print(arr)"
      ],
      "execution_count": null,
      "outputs": [
        {
          "output_type": "stream",
          "text": [
            "[ 2  5  8 11 14 17 20 23 26 29 32 35 38 41 44 47]\n"
          ],
          "name": "stdout"
        }
      ]
    },
    {
      "cell_type": "markdown",
      "metadata": {
        "id": "qeuBbYjqCB1s"
      },
      "source": [
        "# Question 2:"
      ]
    },
    {
      "cell_type": "code",
      "metadata": {
        "id": "3b_vBwCb_m93",
        "outputId": "ad0ae2fb-be12-42c3-9ed3-f8b152278c25",
        "colab": {
          "base_uri": "https://localhost:8080/"
        }
      },
      "source": [
        "import numpy as np\n",
        "\n",
        "lst1 = [] \n",
        "print(\"Enter 5 elements : \")\n",
        "for i in range(0, 5): \n",
        "    ele = int(input()) \n",
        "    lst1.append(ele)\n",
        "\n",
        "lst2 = [] \n",
        "print(\"Enter 5 elements : \")\n",
        "for i in range(0, 5): \n",
        "    ele = int(input()) \n",
        "    lst2.append(ele)\n",
        "\n",
        "l1= np.array(lst1)\n",
        "l2= np.array(lst2)\n",
        "c= np.concatenate((l1, l2))\n",
        "print(c)\n",
        "print(np.sort(c))"
      ],
      "execution_count": null,
      "outputs": [
        {
          "output_type": "stream",
          "text": [
            "Enter 5 elements : \n",
            "2\n",
            "7\n",
            "4\n",
            "0\n",
            "1\n",
            "Enter 5 elements : \n",
            "6\n",
            "5\n",
            "3\n",
            "9\n",
            "8\n",
            "[2 7 4 0 1 6 5 3 9 8]\n",
            "[0 1 2 3 4 5 6 7 8 9]\n"
          ],
          "name": "stdout"
        }
      ]
    },
    {
      "cell_type": "markdown",
      "metadata": {
        "id": "tAsKaP01MrrP"
      },
      "source": [
        "# Question 3:"
      ]
    },
    {
      "cell_type": "code",
      "metadata": {
        "id": "6vHNmoq9O4ez",
        "outputId": "32b72d65-9b68-4c8b-8858-2c82a8bf3c34",
        "colab": {
          "base_uri": "https://localhost:8080/"
        }
      },
      "source": [
        "import numpy as np\n",
        " \n",
        "arr = np.array( [[ 1, 2, 3], [ 4, 2, 5]] )\n",
        " \n",
        "print(\"No. of dimensions: \", arr.ndim)\n",
        " \n",
        "print(\"Size of array: \", arr.size)"
      ],
      "execution_count": null,
      "outputs": [
        {
          "output_type": "stream",
          "text": [
            "No. of dimensions:  2\n",
            "Size of array:  6\n"
          ],
          "name": "stdout"
        }
      ]
    },
    {
      "cell_type": "markdown",
      "metadata": {
        "id": "092i3nAuPluf"
      },
      "source": [
        "# Question 4:"
      ]
    },
    {
      "cell_type": "code",
      "metadata": {
        "id": "TnLgqAM7PbSL",
        "outputId": "ac3f2667-b80d-41ac-b80f-0c97f5ed1329",
        "colab": {
          "base_uri": "https://localhost:8080/"
        }
      },
      "source": [
        "import numpy as np\n",
        "\n",
        "print(\"1D array is :\")\n",
        "arr1d = np.array([0, 1, 2, 3, 4, 5, 6, 7, 8, 9])\n",
        "print(arr1d)\n",
        "print(\"\\n1D array converted into 2D array\")\n",
        "arr2d= np.reshape(arr1d, (2, 5))\n",
        "print(arr2d)\n"
      ],
      "execution_count": null,
      "outputs": [
        {
          "output_type": "stream",
          "text": [
            "1D array is :\n",
            "[0 1 2 3 4 5 6 7 8 9]\n",
            "\n",
            "1D array converted into 2D array\n",
            "[[0 1 2 3 4]\n",
            " [5 6 7 8 9]]\n"
          ],
          "name": "stdout"
        }
      ]
    },
    {
      "cell_type": "markdown",
      "metadata": {
        "id": "rD7m-JCnTwby"
      },
      "source": [
        "# Question 5:"
      ]
    },
    {
      "cell_type": "code",
      "metadata": {
        "id": "DTLoTS5uSpad",
        "outputId": "4ee578a7-2061-4e00-c055-6706dd1a524d",
        "colab": {
          "base_uri": "https://localhost:8080/"
        }
      },
      "source": [
        "import numpy as np \n",
        "  \n",
        "a = np.array([[1, 2], [3, 4]]) \n",
        "b = np.array([[5, 6], [7, 8]]) \n",
        "print(\"Vertical stacking:\\n\", np.vstack((a, b))) \n",
        "print(\"\\nHorizontal stacking:\\n\", np.hstack((a, b))) "
      ],
      "execution_count": null,
      "outputs": [
        {
          "output_type": "stream",
          "text": [
            "Vertical stacking:\n",
            " [[1 2]\n",
            " [3 4]\n",
            " [5 6]\n",
            " [7 8]]\n",
            "\n",
            "Horizontal stacking:\n",
            " [[1 2 5 6]\n",
            " [3 4 7 8]]\n"
          ],
          "name": "stdout"
        }
      ]
    },
    {
      "cell_type": "markdown",
      "metadata": {
        "id": "UNd_teSIVUcN"
      },
      "source": [
        "# Question 6:"
      ]
    },
    {
      "cell_type": "code",
      "metadata": {
        "id": "owYo1hc5UhGR",
        "outputId": "c83c9836-e075-43c9-eda7-c11852d1dc77",
        "colab": {
          "base_uri": "https://localhost:8080/"
        }
      },
      "source": [
        "l1 = [] \n",
        "print(\"Enter 7 Unique Numbers : \")\n",
        "for i in range(0, 7): \n",
        "    ele = int(input()) \n",
        "    l1.append(ele)\n",
        "\n",
        "s1 = set(l1)\n",
        "val = len(s1)\n",
        "lval = len(l1)\n",
        "uval = lval-val\n",
        "print(\"Unique Items Numbers are: \",uval)"
      ],
      "execution_count": null,
      "outputs": [
        {
          "output_type": "stream",
          "text": [
            "Enter 7 Unique Numbers : \n",
            "3\n",
            "6\n",
            "4\n",
            "6\n",
            "4\n",
            "3\n",
            "5\n",
            "Unique Items Numbers are:  3\n"
          ],
          "name": "stdout"
        }
      ]
    },
    {
      "cell_type": "code",
      "metadata": {
        "id": "FxiSGV9EXn5_"
      },
      "source": [
        ""
      ],
      "execution_count": null,
      "outputs": []
    }
  ]
}