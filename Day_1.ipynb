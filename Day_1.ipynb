{
  "nbformat": 4,
  "nbformat_minor": 0,
  "metadata": {
    "colab": {
      "name": "Day 1.ipynb",
      "provenance": []
    },
    "kernelspec": {
      "name": "python3",
      "display_name": "Python 3"
    }
  },
  "cells": [
    {
      "cell_type": "markdown",
      "metadata": {
        "id": "nt7EA2JZkO51"
      },
      "source": [
        "# Question 1:"
      ]
    },
    {
      "cell_type": "markdown",
      "metadata": {
        "id": "7hECtUekk24q"
      },
      "source": [
        "RAINBOW"
      ]
    },
    {
      "cell_type": "markdown",
      "metadata": {
        "id": "_mXYc8T8k-iS"
      },
      "source": [
        "# Question 2:"
      ]
    },
    {
      "cell_type": "code",
      "metadata": {
        "id": "_SlkP1Ix0Nm2",
        "outputId": "97176668-2fab-4a2d-b48b-a952cf9f9620",
        "colab": {
          "base_uri": "https://localhost:8080/"
        }
      },
      "source": [
        "print(\"LETS UPGRADE\")"
      ],
      "execution_count": null,
      "outputs": [
        {
          "output_type": "stream",
          "text": [
            "LETS UPGRADE\n"
          ],
          "name": "stdout"
        }
      ]
    },
    {
      "cell_type": "markdown",
      "metadata": {
        "id": "SV20_3IxlCe9"
      },
      "source": [
        "# Question 3:"
      ]
    },
    {
      "cell_type": "code",
      "metadata": {
        "id": "pgRUFpdt07Y6",
        "outputId": "f5491462-32fe-4d2d-b9c2-095e0f1618fd",
        "colab": {
          "base_uri": "https://localhost:8080/"
        }
      },
      "source": [
        "cp=int(input(\"Cost Price \"))\n",
        "sp=int(input(\"Selling Price \"))\n",
        "c=sp-cp\n",
        "if c<0:\n",
        "  print(\"Loss\")\n",
        "elif c==0:\n",
        "  print(\"Neither\")\n",
        "else:\n",
        "  print(\"Profit\")"
      ],
      "execution_count": 1,
      "outputs": [
        {
          "output_type": "stream",
          "text": [
            "Cost Price 74\n",
            "Selling Price 98\n",
            "Profit\n"
          ],
          "name": "stdout"
        }
      ]
    },
    {
      "cell_type": "markdown",
      "metadata": {
        "id": "YZf6nIjTlEhR"
      },
      "source": [
        "# Question 4:"
      ]
    },
    {
      "cell_type": "code",
      "metadata": {
        "id": "ifNQXu3N2prL",
        "outputId": "8d8c953b-33c5-43c5-ce30-1e11d32e34d4",
        "colab": {
          "base_uri": "https://localhost:8080/"
        }
      },
      "source": [
        "e=int(input(\"Euro \"))\n",
        "r=e*80\n",
        "print(r)"
      ],
      "execution_count": null,
      "outputs": [
        {
          "output_type": "stream",
          "text": [
            "Euro 95\n",
            "7600\n"
          ],
          "name": "stdout"
        }
      ]
    },
    {
      "cell_type": "code",
      "metadata": {
        "id": "a1FihIh-56Uw"
      },
      "source": [
        ""
      ],
      "execution_count": null,
      "outputs": []
    }
  ]
}