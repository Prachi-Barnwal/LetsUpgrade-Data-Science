{
  "nbformat": 4,
  "nbformat_minor": 0,
  "metadata": {
    "colab": {
      "name": "Day 2.ipynb",
      "provenance": [],
      "collapsed_sections": []
    },
    "kernelspec": {
      "name": "python3",
      "display_name": "Python 3"
    }
  },
  "cells": [
    {
      "cell_type": "markdown",
      "metadata": {
        "id": "ASWf4DZKmf5j"
      },
      "source": [
        "# Question 1:"
      ]
    },
    {
      "cell_type": "code",
      "metadata": {
        "id": "TbNdw01BmkaF",
        "outputId": "e988bcb0-f22e-4dac-8c0f-cb0e0a9425e4",
        "colab": {
          "base_uri": "https://localhost:8080/"
        }
      },
      "source": [
        "list=[]\n",
        "i=1\n",
        "while i<=10:\n",
        "  n=int(input(\"Enter a Numbers: \"))\n",
        "  if n%2==0:\n",
        "    list.append(n)\n",
        "  i=i+1\n",
        "print(list)"
      ],
      "execution_count": null,
      "outputs": [
        {
          "output_type": "stream",
          "text": [
            "Enter a Numbers: 83\n",
            "Enter a Numbers: 90\n",
            "Enter a Numbers: 42\n",
            "Enter a Numbers: 76\n",
            "Enter a Numbers: 57\n",
            "Enter a Numbers: 98\n",
            "Enter a Numbers: 71\n",
            "Enter a Numbers: 84\n",
            "Enter a Numbers: 49\n",
            "Enter a Numbers: 25\n",
            "[90, 42, 76, 98, 84]\n"
          ],
          "name": "stdout"
        }
      ]
    },
    {
      "cell_type": "markdown",
      "metadata": {
        "id": "fYl6_qCtmks4"
      },
      "source": [
        "# Question 2:"
      ]
    },
    {
      "cell_type": "markdown",
      "metadata": {
        "id": "vAf8w4zCcP6l"
      },
      "source": [
        "# **LIST COMPREHENSIONS**\n",
        "\n",
        "List comprehensions are used for creating new lists from other iterables.\n",
        "As list comprehensions return lists, they consist of brackets containing the expression, which is executed for each element along with the for loop to iterate over each element.\n",
        "\n",
        "This is the basic syntax:\n",
        "new_list = [expression for element in iterable if condition]"
      ]
    },
    {
      "cell_type": "markdown",
      "metadata": {
        "id": "P7lIgMK6mvJP"
      },
      "source": [
        "# Question 3:"
      ]
    },
    {
      "cell_type": "code",
      "metadata": {
        "id": "_RnljDQnmxoZ",
        "outputId": "9fd78d39-6ff6-4508-9ae8-a83e34b50a40",
        "colab": {
          "base_uri": "https://localhost:8080/"
        }
      },
      "source": [
        "d={}\n",
        "n=int(input(\"Enter a number \"))\n",
        "for i in range(1, n+1):\n",
        "  d.update({i:i*i})\n",
        "print(d)"
      ],
      "execution_count": null,
      "outputs": [
        {
          "output_type": "stream",
          "text": [
            "Enter a number 10\n",
            "{1: 1, 2: 4, 3: 9, 4: 16, 5: 25, 6: 36, 7: 49, 8: 64, 9: 81, 10: 100}\n"
          ],
          "name": "stdout"
        }
      ]
    },
    {
      "cell_type": "markdown",
      "metadata": {
        "id": "YqGZYykAmxxV"
      },
      "source": [
        "# Question 4:"
      ]
    },
    {
      "cell_type": "code",
      "metadata": {
        "id": "C4Imw7vdmzQm",
        "outputId": "82f536a3-28fd-493d-dc55-b3863f5a79a5",
        "colab": {
          "base_uri": "https://localhost:8080/"
        }
      },
      "source": [
        "print(\"UP 5\")\n",
        "print(\"DOWN 3\")\n",
        "print(\"LEFT 3\")\n",
        "print(\"RIGHT 2\")\n",
        "n=int(input(\"Enter a Number: \"))\n",
        "if(n==1):\n",
        "  print(\"5\")\n",
        "elif(n==2 or n==3):\n",
        "  print(\"3\")\n",
        "elif(n==4):\n",
        "  print(\"2\")"
      ],
      "execution_count": null,
      "outputs": [
        {
          "output_type": "stream",
          "text": [
            "UP 5\n",
            "DOWN 3\n",
            "LEFT 3\n",
            "RIGHT 2\n",
            "Enter a Number: 4\n",
            "2\n"
          ],
          "name": "stdout"
        }
      ]
    },
    {
      "cell_type": "code",
      "metadata": {
        "id": "Z3vvZM0UeUJJ"
      },
      "source": [
        ""
      ],
      "execution_count": null,
      "outputs": []
    }
  ]
}